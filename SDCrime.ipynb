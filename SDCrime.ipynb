{
 "metadata": {
  "name": "",
  "signature": "sha256:b40642f3d6a57b8bc774f8a8fa8c428d573d857e413fe465145c6da75816d2b1"
 },
 "nbformat": 3,
 "nbformat_minor": 0,
 "worksheets": [
  {
   "cells": [
    {
     "cell_type": "markdown",
     "metadata": {},
     "source": [
      "#San Diego Crime\n",
      "\n",
      "The San Diego Crime Incidents dataset contains about a million geocoded crime incidents from 2006 to 2012. You can get this set as a CSV file from the data repository or from Ambry as clarinova.com-crime-incidents-casnd-geocoded.\n",
      "\n",
      "The dataset has many features for analysis, including the time, location and type of incident. \n",
      "\n",
      "Exercises you can do with this data, roughly in order of difficulty. \n",
      "\n",
      "1. Rank the communities of San Diego for car theft.\n",
      "2. Rank the communities by the difference in DUIs between the times 10:00 PM and 2:00AM.\n",
      "3. Replicate some of the Rhythm Maps, from the crime analysis notebooks. ( Click the \"</>\" icon to expose the code. ) \n",
      "4. Find the San Diego community that has the largest change, aggregated by week of year, in the number of DUIs per week. \n",
      "5. Find the crime type and community for which the cyclic patterns of the crime over the week changes the most over the course of the year.\n",
      "    a. First, determine how the rates or counts of the crime changes from Sunday to Saturday over the course of the week.  Find the peak day and the trough day in the week\n",
      "    b. Compare all of the weeks in the year to find the maximum difference in the trough days and peak days.\n",
      "    c. Perform that analysis for all San Diego community / crime type combinations to find the largest discrepancies.  \n",
      "6. Correlate the rates of each crime type to the locations of alcohol permits.\n",
      "     "
     ]
    },
    {
     "cell_type": "code",
     "collapsed": false,
     "input": [
      "%matplotlib inline\n",
      "import numpy as np\n",
      "import pandas as pd\n",
      "import matplotlib.pyplot as plt\n",
      "\n",
      "print 'Python version ' + sys.version\n",
      "print 'Pandas version ' + pd.__version__\n",
      "print 'Numpy version ' + np.__version__"
     ],
     "language": "python",
     "metadata": {},
     "outputs": [
      {
       "output_type": "stream",
       "stream": "stdout",
       "text": [
        "Python version 2.7.5 (default, Sep 12 2013, 21:33:34) \n",
        "[GCC 4.2.1 Compatible Apple LLVM 5.0 (clang-500.0.68)]\n",
        "Pandas version 0.13.1\n",
        "Numpy version 1.6.2\n"
       ]
      }
     ],
     "prompt_number": 3
    },
    {
     "cell_type": "code",
     "collapsed": false,
     "input": [
      "df = pd.read_csv('incidents-5y.csv')\n",
      "df.head(1)"
     ],
     "language": "python",
     "metadata": {},
     "outputs": [
      {
       "html": [
        "<div style=\"max-height:1000px;max-width:1500px;overflow:auto;\">\n",
        "<table border=\"1\" class=\"dataframe\">\n",
        "  <thead>\n",
        "    <tr style=\"text-align: right;\">\n",
        "      <th></th>\n",
        "      <th>id</th>\n",
        "      <th>date</th>\n",
        "      <th>year</th>\n",
        "      <th>month</th>\n",
        "      <th>day</th>\n",
        "      <th>week</th>\n",
        "      <th>dow</th>\n",
        "      <th>time</th>\n",
        "      <th>hour</th>\n",
        "      <th>is_night</th>\n",
        "      <th>type</th>\n",
        "      <th>address</th>\n",
        "      <th>city</th>\n",
        "      <th>segment_id</th>\n",
        "      <th>nbrhood</th>\n",
        "      <th>community</th>\n",
        "      <th>comm_pop</th>\n",
        "      <th>council</th>\n",
        "      <th>council_pop</th>\n",
        "      <th>asr_zone</th>\n",
        "      <th></th>\n",
        "    </tr>\n",
        "  </thead>\n",
        "  <tbody>\n",
        "    <tr>\n",
        "      <th>0</th>\n",
        "      <td>NaN</td>\n",
        "      <td> 2008-01-01</td>\n",
        "      <td> 2008</td>\n",
        "      <td> 1</td>\n",
        "      <td> 2922</td>\n",
        "      <td> 0</td>\n",
        "      <td> 2</td>\n",
        "      <td> 00:00:00</td>\n",
        "      <td> 0</td>\n",
        "      <td> 1</td>\n",
        "      <td> THEFT/LARCENY</td>\n",
        "      <td> 2500  Block Orion Way</td>\n",
        "      <td> SndCAR</td>\n",
        "      <td> 103154</td>\n",
        "      <td> NONE</td>\n",
        "      <td> NONE</td>\n",
        "      <td> 0</td>\n",
        "      <td> NONE</td>\n",
        "      <td> 0</td>\n",
        "      <td>NaN</td>\n",
        "      <td>...</td>\n",
        "    </tr>\n",
        "  </tbody>\n",
        "</table>\n",
        "<p>1 rows \u00d7 26 columns</p>\n",
        "</div>"
       ],
       "metadata": {},
       "output_type": "pyout",
       "prompt_number": 156,
       "text": [
        "   id        date  year  month   day  week  dow      time  hour  is_night  \\\n",
        "0 NaN  2008-01-01  2008      1  2922     0    2  00:00:00     0         1   \n",
        "\n",
        "            type                address    city  segment_id nbrhood community  \\\n",
        "0  THEFT/LARCENY  2500  Block Orion Way  SndCAR      103154    NONE      NONE   \n",
        "\n",
        "   comm_pop council  council_pop  asr_zone      \n",
        "0         0    NONE            0       NaN ...  \n",
        "\n",
        "[1 rows x 26 columns]"
       ]
      }
     ],
     "prompt_number": 156
    },
    {
     "cell_type": "markdown",
     "metadata": {},
     "source": [
      "## Different type of crimes in SD and frequency"
     ]
    },
    {
     "cell_type": "code",
     "collapsed": false,
     "input": [
      "df.type.value_counts()"
     ],
     "language": "python",
     "metadata": {},
     "outputs": [
      {
       "metadata": {},
       "output_type": "pyout",
       "prompt_number": 157,
       "text": [
        "DRUGS/ALCOHOL VIOLATIONS    185135\n",
        "THEFT/LARCENY               108939\n",
        "VEHICLE BREAK-IN/THEFT       95616\n",
        "BURGLARY                     71377\n",
        "MOTOR VEHICLE THEFT          70066\n",
        "ASSAULT                      69055\n",
        "VANDALISM                    61439\n",
        "DUI                          47098\n",
        "FRAUD                        43955\n",
        "SEX CRIMES                   17439\n",
        "ROBBERY                      17002\n",
        "WEAPONS                       8838\n",
        "ARSON                         1651\n",
        "HOMICIDE                       368\n",
        "dtype: int64"
       ]
      }
     ],
     "prompt_number": 157
    },
    {
     "cell_type": "code",
     "collapsed": false,
     "input": [
      "df['community'].unique()"
     ],
     "language": "python",
     "metadata": {},
     "outputs": [
      {
       "metadata": {},
       "output_type": "pyout",
       "prompt_number": 158,
       "text": [
        "array([NONE, SanCRM, SanSNS, SanCLA, SanDOW, SanENC, SanPCF, SanUPT,\n",
        "       SanUNV, SanRES, SanMIR, SanOLD, SanMDW, SanSOT, SanMSS, SanSKY,\n",
        "       SanGRT, SanSER, SanMID, SanMII, SanCOL, SanLAJ, SanKER, SanLIN,\n",
        "       SanOTM, SanRNC, SanPEN, SanOAT, SanMDC, SanBLA, SanGRE, SanMSH,\n",
        "       SanMIS, SanNAV, SanTIR, SanCAR, SanOCN, SanTOR, SanMIL, SanRAN,\n",
        "       SanMDS, SanSCI, SanSAB, SanTRR, SanBAL, SanBAR, SanMRM, SanRAO,\n",
        "       SanEST, SanTOE, SanPAC, SanDEL, SanSAN, SanTIJ, SanVID, SanLOS,\n",
        "       SanNCU, SanFAR], dtype=object)"
       ]
      }
     ],
     "prompt_number": 158
    },
    {
     "cell_type": "code",
     "collapsed": false,
     "input": [
      "theftdf = df.loc[df['type'] == 'MOTOR VEHICLE THEFT']\n",
      "print theftdf['community'].describe()"
     ],
     "language": "python",
     "metadata": {},
     "outputs": [
      {
       "output_type": "stream",
       "stream": "stdout",
       "text": [
        "count     70066\n",
        "unique       55\n",
        "top        NONE\n",
        "freq      34554\n",
        "Name: community, dtype: object\n"
       ]
      }
     ],
     "prompt_number": 159
    },
    {
     "cell_type": "code",
     "collapsed": false,
     "input": [
      "theftdf.community.value_counts()"
     ],
     "language": "python",
     "metadata": {},
     "outputs": [
      {
       "metadata": {},
       "output_type": "pyout",
       "prompt_number": 164,
       "text": [
        "NONE      34554\n",
        "SanMDC     2525\n",
        "SanSNS     2251\n",
        "SanSOT     1913\n",
        "SanOAT     1861\n",
        "SanGRE     1626\n",
        "SanCLA     1544\n",
        "SanPCF     1492\n",
        "SanMIR     1479\n",
        "SanMSS     1378\n",
        "SanDOW     1368\n",
        "SanSKY     1353\n",
        "SanUPT     1330\n",
        "SanMID     1251\n",
        "SanENC     1177\n",
        "SanOTM     1164\n",
        "SanUNV     1083\n",
        "SanPEN      878\n",
        "SanLIN      826\n",
        "SanNAV      764\n",
        "SanGRT      620\n",
        "SanLAJ      582\n",
        "SanOCN      573\n",
        "SanMDS      572\n",
        "SanKER      559\n",
        "SanBAR      481\n",
        "SanMII      475\n",
        "SanTIR      473\n",
        "SanCOL      468\n",
        "SanMDW      455\n",
        "SanSER      450\n",
        "SanRAN      342\n",
        "SanRNC      331\n",
        "SanMIS      235\n",
        "SanMSH      202\n",
        "SanCAR      186\n",
        "SanCRM      183\n",
        "SanMIL      157\n",
        "SanBAL      145\n",
        "SanSCI      129\n",
        "SanOLD      121\n",
        "SanRES      106\n",
        "SanSAB       96\n",
        "SanTOR       90\n",
        "SanTIJ       52\n",
        "SanMRM       47\n",
        "SanTRR       38\n",
        "SanPAC       25\n",
        "SanBLA       17\n",
        "SanTOE       17\n",
        "SanSAN        8\n",
        "SanRAO        7\n",
        "SanNCU        4\n",
        "SanVID        2\n",
        "SanDEL        1\n",
        "Length: 55, dtype: int64"
       ]
      }
     ],
     "prompt_number": 164
    },
    {
     "cell_type": "code",
     "collapsed": false,
     "input": [
      "theftbycomm = theftdf[['community']]\n",
      "type(theftbycomm)"
     ],
     "language": "python",
     "metadata": {},
     "outputs": [
      {
       "metadata": {},
       "output_type": "pyout",
       "prompt_number": 181,
       "text": [
        "pandas.core.frame.DataFrame"
       ]
      }
     ],
     "prompt_number": 181
    },
    {
     "cell_type": "code",
     "collapsed": false,
     "input": [],
     "language": "python",
     "metadata": {},
     "outputs": [],
     "prompt_number": 126
    },
    {
     "cell_type": "markdown",
     "metadata": {},
     "source": [
      "## Total number of DUIs between 10 PM and 2 AM by community"
     ]
    },
    {
     "cell_type": "code",
     "collapsed": false,
     "input": [
      "df_typecommtime = df[['type','community', 'time']]"
     ],
     "language": "python",
     "metadata": {},
     "outputs": [],
     "prompt_number": 12
    },
    {
     "cell_type": "code",
     "collapsed": false,
     "input": [
      "dfdui = df_typecommtime.loc[df_typecommtime['type'] == 'DUI']\n",
      "dfdui.community.value_counts()"
     ],
     "language": "python",
     "metadata": {},
     "outputs": [
      {
       "metadata": {},
       "output_type": "pyout",
       "prompt_number": 13,
       "text": [
        "NONE      28528\n",
        "SanPCF     2375\n",
        "SanDOW     2307\n",
        "SanUPT      983\n",
        "SanSOT      943\n",
        "SanMDC      930\n",
        "SanGRE      845\n",
        "SanGRT      737\n",
        "SanCLA      705\n",
        "SanMSS      585\n",
        "SanNAV      509\n",
        "SanPEN      441\n",
        "SanMIR      436\n",
        "SanSNS      420\n",
        "SanENC      413\n",
        "SanCOL      398\n",
        "SanMIS      385\n",
        "SanMID      357\n",
        "SanKER      341\n",
        "SanOCN      316\n",
        "SanOAT      315\n",
        "SanLAJ      289\n",
        "SanUNV      280\n",
        "SanSKY      239\n",
        "SanLIN      235\n",
        "SanRNC      223\n",
        "SanMDW      204\n",
        "SanSER      200\n",
        "SanMII      197\n",
        "SanOTM      190\n",
        "SanBAR      172\n",
        "SanRES      172\n",
        "SanCAR      159\n",
        "SanMDS      159\n",
        "SanMSH      157\n",
        "SanRAN      151\n",
        "SanTOR      132\n",
        "SanTIR      129\n",
        "SanMIL       96\n",
        "SanSCI       84\n",
        "SanCRM       79\n",
        "SanBAL       58\n",
        "SanSAB       46\n",
        "SanOLD       36\n",
        "SanTIJ       24\n",
        "SanMRM       23\n",
        "SanTRR       23\n",
        "SanTOE       16\n",
        "SanBLA       14\n",
        "SanPAC       14\n",
        "SanSAN        9\n",
        "SanFAR        6\n",
        "SanNCU        5\n",
        "SanLOS        3\n",
        "SanDEL        2\n",
        "SanVID        2\n",
        "SanEST        1\n",
        "Length: 57, dtype: int64"
       ]
      }
     ],
     "prompt_number": 13
    },
    {
     "cell_type": "code",
     "collapsed": false,
     "input": [
      "a = np.arange(5)\n",
      "b = np.arange(6)\n",
      "print(a)\n",
      "print(b)"
     ],
     "language": "python",
     "metadata": {},
     "outputs": [
      {
       "output_type": "stream",
       "stream": "stdout",
       "text": [
        "[0 1 2 3 4]\n",
        "[0 1 2 3 4 5]\n"
       ]
      }
     ],
     "prompt_number": 174
    },
    {
     "cell_type": "code",
     "collapsed": false,
     "input": [
      "a + b[:-1]"
     ],
     "language": "python",
     "metadata": {},
     "outputs": [
      {
       "metadata": {},
       "output_type": "pyout",
       "prompt_number": 175,
       "text": [
        "array([0, 2, 4, 6, 8])"
       ]
      }
     ],
     "prompt_number": 175
    },
    {
     "cell_type": "code",
     "collapsed": false,
     "input": [
      "a.reshape(-1, 1) + b"
     ],
     "language": "python",
     "metadata": {},
     "outputs": [
      {
       "metadata": {},
       "output_type": "pyout",
       "prompt_number": 177,
       "text": [
        "array([[0, 1, 2, 3, 4, 5],\n",
        "       [1, 2, 3, 4, 5, 6],\n",
        "       [2, 3, 4, 5, 6, 7],\n",
        "       [3, 4, 5, 6, 7, 8],\n",
        "       [4, 5, 6, 7, 8, 9]])"
       ]
      }
     ],
     "prompt_number": 177
    },
    {
     "cell_type": "code",
     "collapsed": false,
     "input": [
      "a[:, None] == b"
     ],
     "language": "python",
     "metadata": {},
     "outputs": [
      {
       "metadata": {},
       "output_type": "pyout",
       "prompt_number": 178,
       "text": [
        "array([[ True, False, False, False, False, False],\n",
        "       [False,  True, False, False, False, False],\n",
        "       [False, False,  True, False, False, False],\n",
        "       [False, False, False,  True, False, False],\n",
        "       [False, False, False, False,  True, False]], dtype=bool)"
       ]
      }
     ],
     "prompt_number": 178
    },
    {
     "cell_type": "code",
     "collapsed": false,
     "input": [],
     "language": "python",
     "metadata": {},
     "outputs": []
    }
   ],
   "metadata": {}
  }
 ]
}