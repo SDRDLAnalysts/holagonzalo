{
 "metadata": {
  "name": "",
  "signature": "sha256:bbd853f1aa05d588c6991197490f636537c53c49f61167470bc4a9593bde1cb6"
 },
 "nbformat": 3,
 "nbformat_minor": 0,
 "worksheets": [
  {
   "cells": [
    {
     "cell_type": "markdown",
     "metadata": {},
     "source": [
      "Glossary\n",
      "- Bimodal: A distribution that has two values that have the highest frequency of scores.\n",
      "Distribution: A collection, or group, of scores from a sample on a single variable.\n",
      "Often, but not necessarily, these scores are arranged in order from smallest to largest.\n",
      "Mean: The arithmetic average of a distribution of scores.\n",
      "Median split: Dividing a distribution of scores into two equal groups by using the median\n",
      "score as the divider.\n",
      "Those scores above the median are the \u201chigh\u201d group whereas those below the median are the \u201clow\u201d group.\n",
      "Median: The score in a distribution that marks the 50th percentile.\n",
      "It is the score at which 50% of the distribution falls below and 50% fall above.\n",
      "Mode: The score in the distribution that occurs most frequently.\n",
      "Multimodal:\n",
      "When a distribution of scores has two or more values that have the highest fre-\n",
      "quency of scores.\n",
      "Negative skew:\n",
      "In a skewed distribution, when most of the scores are clustered at the higher end\n",
      "of the distribution with a few scores creating a tail at the lower end of the distribution.\n",
      "Outliers:\n",
      "Extreme scores that are more than two standard deviations above or below the\n",
      "mean.\n",
      "Positive skew:\n",
      "In a skewed distribution, when most of the scores are clustered at the lower end of\n",
      "the distribution with a few scores creating a tail at the higher end of the distribution.\n",
      "Parameter:\n",
      "A value derived from the data collected from a population, or the value inferred to\n",
      "the population from a sample statistic.\n",
      "Population:\n",
      "Th\n",
      "e group from which data are collected or a sample is selected.\n",
      "Th\n",
      "e population\n",
      "encompasses the entire group for which the data are alleged to apply.\n",
      "Sample:\n",
      "An individual or group, selected from a population, from whom or which data are\n",
      "collected.\n",
      "Skew:\n",
      "When a distribution of scores has a high number of scores clustered at one end of the\n",
      "distribution with relatively few scores spread out toward the other end of the distribu-\n",
      "tion, forming a tail.\n",
      "Statistic:\n",
      "A value derived from the data collected from a sample."
     ]
    }
   ],
   "metadata": {}
  }
 ]
}