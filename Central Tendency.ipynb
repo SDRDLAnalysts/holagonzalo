{
 "metadata": {
  "name": "",
  "signature": "sha256:fe4b07e34ab247f67392a50924078771378dff9c91cf22d43deff1131ced1ccf"
 },
 "nbformat": 3,
 "nbformat_minor": 0,
 "worksheets": [
  {
   "cells": [
    {
     "cell_type": "code",
     "collapsed": false,
     "input": [
      "#please load\n",
      "import numpy as np\n",
      "import pandas as pd\n",
      "import matplotlib.pyplot as plt\n",
      "%matplotlib inline"
     ],
     "language": "python",
     "metadata": {},
     "outputs": [],
     "prompt_number": 27
    },
    {
     "cell_type": "markdown",
     "metadata": {},
     "source": [
      "###Glossary of terms\n",
      "- **Bimodal**: A distribution that has two values that have the highest frequency of scores.\n",
      "- **Distribution**: A collection, or group, of scores from a sample on a single variable. Often, but not necessarily, these scores are arranged in order from smallest to largest.\n",
      "- **Mean**: The arithmetic average of a distribution of scores.\n",
      "- **Median split**: Dividing a distribution of scores into two equal groups by using the median score as the divider. Those scores above the median are the \u201chigh\u201d group whereas those below the median are the \u201clow\u201d group.\n",
      "- **Median**: The score in a distribution that marks the 50th percentile. It is the score at which 50% of the distribution falls below and 50% fall above.\n",
      "- **Mode**: The score in the distribution that occurs most frequently.\n",
      "- **Multimodal**: When a distribution of scores has two or more values that have the highest frequency of scores.\n",
      "- **Negative skew**: In a skewed distribution, when most of the scores are clustered at the higher end of the distribution with a few scores creating a tail at the lower end of the distribution.\n",
      "- **Outliers**: Extreme scores that are more than two standard deviations above or below the mean.\n",
      "- **Positive skew**: In a skewed distribution, when most of the scores are clustered at the lower end of the distribution with a few scores creating a tail at the higher end of the distribution.\n",
      "- **Parameter**: A value derived from the data collected from a population, or the value inferred to the population from a sample statistic.\n",
      "- **Population**: The group from which data are collected or a sample is selected. The population encompasses the entire group for which the data are alleged to apply.\n",
      "- **Sample**: An individual or group, selected from a population, from whom or which data are collected.\n",
      "- **Skew**: When a distribution of scores has a high number of scores clustered at one end of the distribution with relatively few scores spread out toward the other end of the distribution, forming a tail.\n",
      "- **Statistic**: A value derived from the data collected from a sample."
     ]
    },
    {
     "cell_type": "markdown",
     "metadata": {},
     "source": [
      "## The Mean, Median, and Mode of a Skewed Distribution\n",
      "\n",
      "When scores in a distribution are normally distributed, the mean, median, and mode are all at the same point: the center of the distribution. In the messy world of social science, however, the scores from a sample on a given variable are often not normally distributed. When the scores in a distribution tend to bunch up at one end of the distribution\n",
      "and there are a few scores at the other end, the distribution is said to be _skewed_.\n",
      "\n",
      "When working with a skewed distribution, the mean, median, and mode are usually all at different points. It is important to note that the procedures used to calculate a mean, median, and mode are the same whether you are dealing with a skewed or a normal distribution. All that changes are where these three measures of central tendency are in relation to each other.\n",
      "\n",
      "To illustrate, I created a fictional distribution of scores based on a sample size of 30. Suppose that I were to ask a sample of 30 randomly selected fifth graders whether they think it is important to do well in school. \n",
      "\n",
      "Suppose further that I ask them to rate how important they think it is to do well in school using a 5-point scale, with 1 = \u201cnot at all important\u201d and 5 = \u201cvery important.\u201d Because most fifth graders tend to believe it is very important to do well in school, most of the scores in this distribution are at the high end of the scale, with a few scores at the low end. I have arranged my fictitious scores in order from smallest to largest and get the following distribution:"
     ]
    },
    {
     "cell_type": "code",
     "collapsed": false,
     "input": [
      "scores = [1,1,1,2,2,2,3,3,3,3,4,4,4,4,4,4,4,4,5,5,5,5,5,5,5,5,5,5,5,5]\n",
      "score_counts = Counter(scores)\n",
      "df = pd.DataFrame.from_dict(score_counts, orient='index')\n",
      "df.plot()"
     ],
     "language": "python",
     "metadata": {},
     "outputs": [
      {
       "metadata": {},
       "output_type": "pyout",
       "prompt_number": 68,
       "text": [
        "<matplotlib.axes.AxesSubplot at 0x4f5ac10>"
       ]
      },
      {
       "metadata": {},
       "output_type": "display_data",
       "png": "[encoded data removed]",
       "text": [
        "<matplotlib.figure.Figure at 0x4f65510>"
       ]
      }
     ],
     "prompt_number": 68
    },
    {
     "cell_type": "code",
     "collapsed": false,
     "input": [],
     "language": "python",
     "metadata": {},
     "outputs": []
    }
   ],
   "metadata": {}
  }
 ]
}