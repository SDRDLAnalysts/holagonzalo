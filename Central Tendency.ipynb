{
 "metadata": {
  "name": "",
  "signature": "sha256:e7301a30d5d7a5689ebfafb25a7c31867d188512214f10d2177d9f6377b2c227"
 },
 "nbformat": 3,
 "nbformat_minor": 0,
 "worksheets": [
  {
   "cells": [
    {
     "cell_type": "markdown",
     "metadata": {},
     "source": [
      "###Glossary\n",
      "- **Bimodal**: A distribution that has two values that have the highest frequency of scores.\n",
      "- **Distribution: A collection, or group, of scores from a sample on a single variable. Often, but not necessarily, these scores are arranged in order from smallest to largest.\n",
      "- **Mean: The arithmetic average of a distribution of scores.\n",
      "- **Median split: Dividing a distribution of scores into two equal groups by using the median score as the divider. Those scores above the median are the \u201chigh\u201d group whereas those below the median are the \u201clow\u201d group.\n",
      "- **Median: The score in a distribution that marks the 50th percentile. It is the score at which 50% of the distribution falls below and 50% fall above.\n",
      "- **Mode: The score in the distribution that occurs most frequently.\n",
      "- Multimodal: When a distribution of scores has two or more values that have the highest frequency of scores.\n",
      "- Negative skew: In a skewed distribution, when most of the scores are clustered at the higher end of the distribution with a few scores creating a tail at the lower end of the distribution.\n",
      "- Outliers: Extreme scores that are more than two standard deviations above or below the mean.\n",
      "- Positive skew: In a skewed distribution, when most of the scores are clustered at the lower end of the distribution with a few scores creating a tail at the higher end of the distribution.\n",
      "- Parameter: A value derived from the data collected from a population, or the value inferred to the population from a sample statistic.\n",
      "- Population: The group from which data are collected or a sample is selected. The population encompasses the entire group for which the data are alleged to apply.\n",
      "- Sample: An individual or group, selected from a population, from whom or which data are collected.\n",
      "- Skew: When a distribution of scores has a high number of scores clustered at one end of the distribution with relatively few scores spread out toward the other end of the distribution, forming a tail.\n",
      "- Statistic: A value derived from the data collected from a sample."
     ]
    },
    {
     "cell_type": "code",
     "collapsed": false,
     "input": [],
     "language": "python",
     "metadata": {},
     "outputs": []
    }
   ],
   "metadata": {}
  }
 ]
}