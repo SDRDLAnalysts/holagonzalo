{
 "metadata": {
  "name": "",
  "signature": "sha256:78d70bd0fbcf9574e50dbef9f8b38c57d25c0e9519e76e9703d252525a66ad86"
 },
 "nbformat": 3,
 "nbformat_minor": 0,
 "worksheets": [
  {
   "cells": [
    {
     "cell_type": "markdown",
     "metadata": {},
     "source": [
      "# Is your neighborhood bar or liquor store causing problems? Prove it!\n"
     ]
    },
    {
     "cell_type": "code",
     "collapsed": false,
     "input": [
      "from IPython.core.display import Image \n",
      "Image(url='https://www.baltimorebrew.com/content/themes/bbrew/scripts/thumb.php?src=/content/uploads/2014/04/liquor-board-5.jpg&w=590&zc=0')"
     ],
     "language": "python",
     "metadata": {},
     "outputs": [
      {
       "html": [
        "<img src=\"https://www.baltimorebrew.com/content/themes/bbrew/scripts/thumb.php?src=/content/uploads/2014/04/liquor-board-5.jpg&w=590&zc=0\"/>"
       ],
       "metadata": {},
       "output_type": "pyout",
       "prompt_number": 5,
       "text": [
        "<IPython.core.display.Image at 0x3660a10>"
       ]
      }
     ],
     "prompt_number": 5
    },
    {
     "cell_type": "markdown",
     "metadata": {},
     "source": [
      "Catherine Benton-Jones (center) and Diane Corbett (right) tried, unsuccessfully, to protest the renewal of a liquor license for a store they say hurts their neighborhood. Photo by: Fern Shen\n"
     ]
    },
    {
     "cell_type": "code",
     "collapsed": false,
     "input": [],
     "language": "python",
     "metadata": {},
     "outputs": []
    }
   ],
   "metadata": {}
  }
 ]
}