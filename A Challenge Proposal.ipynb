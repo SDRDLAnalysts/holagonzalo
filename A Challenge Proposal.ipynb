{
 "metadata": {
  "name": "",
  "signature": "sha256:c84acbe076a44f9216fad8b1988dd0bf8924d8a1332ca2b3809f32c2df004c37"
 },
 "nbformat": 3,
 "nbformat_minor": 0,
 "worksheets": []
}