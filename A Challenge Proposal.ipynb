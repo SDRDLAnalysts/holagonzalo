{
 "metadata": {
  "name": "",
  "signature": "sha256:30c7e6df74aa3b293c71ebfc73a97838eb942e4be1d6e587cb156e8b80ecfe39"
 },
 "nbformat": 3,
 "nbformat_minor": 0,
 "worksheets": [
  {
   "cells": [
    {
     "cell_type": "markdown",
     "metadata": {},
     "source": [
      "# Is your neighborhood bar or liquor store causing problems? Prove it!\n",
      "In this excercise, your job is to explore the alchol licence data set and the crime data set and find out\n"
     ]
    },
    {
     "cell_type": "code",
     "collapsed": false,
     "input": [
      "from IPython.core.display import Image \n",
      "Image(url='https://www.baltimorebrew.com/content/themes/bbrew/scripts/thumb.php?src=/content/uploads/2014/04/liquor-board-5.jpg&w=590&zc=0')"
     ],
     "language": "python",
     "metadata": {},
     "outputs": [
      {
       "html": [
        "<img src=\"https://www.baltimorebrew.com/content/themes/bbrew/scripts/thumb.php?src=/content/uploads/2014/04/liquor-board-5.jpg&w=590&zc=0\"/>"
       ],
       "metadata": {},
       "output_type": "pyout",
       "prompt_number": 4,
       "text": [
        "<IPython.core.display.Image at 0x3660fd0>"
       ]
      }
     ],
     "prompt_number": 4
    },
    {
     "cell_type": "markdown",
     "metadata": {},
     "source": [
      "Catherine Benton-Jones (center) and Diane Corbett (right) tried, unsuccessfully, to protest the renewal of a liquor license for a store they say hurts their neighborhood.\n",
      "Photo by: Fern Shen\n"
     ]
    }
   ],
   "metadata": {}
  }
 ]
}