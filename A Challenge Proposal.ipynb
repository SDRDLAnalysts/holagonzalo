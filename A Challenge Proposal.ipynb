{
 "metadata": {
  "name": "",
  "signature": "sha256:2dfa85bd9df908ced632ccebf2537f4bffb0c69f5eee40bc4d3bc91927611c6a"
 },
 "nbformat": 3,
 "nbformat_minor": 0,
 "worksheets": [
  {
   "cells": [
    {
     "cell_type": "markdown",
     "metadata": {},
     "source": [
      "# Is your neighborhood bar or liquor store causing problems? Prove it!\n",
      "\n"
     ]
    },
    {
     "cell_type": "code",
     "collapsed": false,
     "input": [],
     "language": "python",
     "metadata": {},
     "outputs": []
    }
   ],
   "metadata": {}
  }
 ]
}