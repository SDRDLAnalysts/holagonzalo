{
 "metadata": {
  "name": "",
  "signature": "sha256:ece8316e537b329ad11b0d817bb9656309d0077488b1470dfa5d0f747cf8cc32"
 },
 "nbformat": 3,
 "nbformat_minor": 0,
 "worksheets": [
  {
   "cells": [
    {
     "cell_type": "markdown",
     "metadata": {},
     "source": [
      "# Is your neighborhood bar or liquor store causing problems? Prove it!\n",
      "\n",
      "\n",
      "\n",
      "In this excercise, your job is to explore the alchol licence data set and the crime data set and find out\n"
     ]
    },
    {
     "cell_type": "code",
     "collapsed": false,
     "input": [],
     "language": "python",
     "metadata": {},
     "outputs": []
    }
   ],
   "metadata": {}
  }
 ]
}