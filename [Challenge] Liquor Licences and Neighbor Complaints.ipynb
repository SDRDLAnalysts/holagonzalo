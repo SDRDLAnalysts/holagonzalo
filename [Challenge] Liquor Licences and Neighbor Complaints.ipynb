{
 "metadata": {
  "name": "",
  "signature": "sha256:facbd5254a94f6a6f8d9cdc1e19027991e6113a2021a840d39b5c1ffeeb2ab7d"
 },
 "nbformat": 3,
 "nbformat_minor": 0,
 "worksheets": [
  {
   "cells": [
    {
     "cell_type": "markdown",
     "metadata": {},
     "source": [
      "#Is your neighborhood bar or liquor store causing problems?\n"
     ]
    },
    {
     "cell_type": "code",
     "collapsed": false,
     "input": [
      "from IPython.core.display import Image \n",
      "Image(url='http://bit.ly/1k829RO')"
     ],
     "language": "python",
     "metadata": {},
     "outputs": [
      {
       "html": [
        "<img src=\"http://bit.ly/1k829RO\"/>"
       ],
       "metadata": {},
       "output_type": "pyout",
       "prompt_number": 3,
       "text": [
        "<IPython.core.display.Image at 0x35e3110>"
       ]
      }
     ],
     "prompt_number": 3
    },
    {
     "cell_type": "markdown",
     "metadata": {},
     "source": [
      "Catherine Benton-Jones (center) and Diane Corbett (right) tried, unsuccessfully, to protest the renewal of a liquor license for a store they say hurts their neighborhood. (Photo by: Fern Shen)\n",
      "\n",
      "Under the provisions of Article 2-B 10-301(a), communities wishing to protest a renewal need to come up with signatures from 10 or more residents from the nearby area. But recent proceedings made clear that citizens had also better show up with more than anecdotal accounts of their woes.\n",
      "\n",
      "### Your job is to support these good ladies by supplying them with data visualization (charts, tables, graphs...) that show\n",
      "\n",
      "1. High counts of 311 (DISORDERLY CONDUCT: ALCOHOL) and 313 (USE/UNDER INFLUENCE OF CONTROLLED SUBSTANCE) crimes close to locations with alcohol permits.\n",
      "\n",
      "2. Think of the children! -- same as above for 314 crime (MINOR POSSESSION ALCOHOL).\n",
      "\n",
      "3. Neighborhods that qualify for partial moratorium. A moratorium is a ban on the issuance of off-sale and wine licenses (Type 20 where the ratio of Type 20 licenses exceeds one for each 2,500 inhabitants.\n",
      "\n",
      "Get the data from: \n",
      "- San Diego County Alcohol Permits: http://data.sandiegodata.org/dataset/clarinova_com-alcohol_licenses-casnd-429e-extract\n",
      "- San Diego Region Crime Incidents 2007 - 2013: http://data.sandiegodata.org/dataset/clarinova_com-crime-incidents-casnd-7ba4-extract"
     ]
    },
    {
     "cell_type": "code",
     "collapsed": false,
     "input": [],
     "language": "python",
     "metadata": {},
     "outputs": []
    },
    {
     "cell_type": "code",
     "collapsed": false,
     "input": [],
     "language": "python",
     "metadata": {},
     "outputs": []
    },
    {
     "cell_type": "code",
     "collapsed": false,
     "input": [],
     "language": "python",
     "metadata": {},
     "outputs": []
    }
   ],
   "metadata": {}
  }
 ]
}