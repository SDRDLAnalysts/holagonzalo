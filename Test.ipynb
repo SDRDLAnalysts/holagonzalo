{
 "metadata": {
  "name": "",
  "signature": "sha256:5688e98d7ba56f71c0691b39f8e4639ab5d13b2d6e5fc3dceb9582817549b8b0"
 },
 "nbformat": 3,
 "nbformat_minor": 0,
 "worksheets": [
  {
   "cells": [
    {
     "cell_type": "code",
     "collapsed": false,
     "input": [
      "import ambry\n",
      "l = ambry.ilibrary()"
     ],
     "language": "python",
     "metadata": {},
     "outputs": [],
     "prompt_number": 1
    },
    {
     "cell_type": "code",
     "collapsed": false,
     "input": [
      "%matplotlib inline\n",
      "import numpy as np\n",
      "import pandas as pd\n",
      "import matplotlib.pyplot as plt\n",
      "import ambry\n",
      "import sys \n",
      "\n",
      "print 'Python version ' + sys.version\n",
      "print 'Pandas version ' + pd.__version__"
     ],
     "language": "python",
     "metadata": {},
     "outputs": [
      {
       "output_type": "stream",
       "stream": "stdout",
       "text": [
        "Python version 2.7.4 (default, Sep 26 2013, 03:20:26) \n",
        "[GCC 4.7.3]\n",
        "Pandas version 0.14.0\n"
       ]
      }
     ],
     "prompt_number": 7
    },
    {
     "cell_type": "code",
     "collapsed": false,
     "input": [
      "l.list()"
     ],
     "language": "python",
     "metadata": {},
     "outputs": [
      {
       "html": [
        "<table><tr><td>L R</td><td>d004001</td><td>abc.ca.gov-alcohol_licenses-orig-0.1.1</td></tr>\n",
        "<tr><td>LSR</td><td>d004002</td><td>abc.ca.gov-alcohol_licenses-orig-0.1.2</td></tr>\n",
        "<tr><td>S</td><td>d005001</td><td>bea.gov-international-transactions-orig-0.1.1</td></tr>\n",
        "<tr><td>L R</td><td>d006001</td><td>bea.gov-metro_gdp-orig-0.1.1</td></tr>\n",
        "<tr><td>L R</td><td>d007001</td><td>cde.ca.gov-api-combined-0.1.1</td></tr>\n",
        "<tr><td>L R</td><td>d007002</td><td>cde.ca.gov-api-combined-0.1.2</td></tr>\n",
        "<tr><td>L R</td><td>d007003</td><td>cde.ca.gov-api-combined-0.1.3</td></tr>\n",
        "<tr><td>L R</td><td>d007004</td><td>cde.ca.gov-api-combined-0.1.4</td></tr>\n",
        "<tr><td>L R</td><td>d008001</td><td>cde.ca.gov-api-orig-0.1.1</td></tr>\n",
        "<tr><td>L R</td><td>d008002</td><td>cde.ca.gov-api-orig-0.1.2</td></tr>\n",
        "<tr><td>L R</td><td>d009001</td><td>cde.ca.gov-celdt-orig-0.1.1</td></tr>\n",
        "<tr><td>L R</td><td>d00a001</td><td>cde.ca.gov-schools-combined-0.1.1</td></tr>\n",
        "<tr><td>L R</td><td>d00b002</td><td>cde.ca.gov-schools-orig-0.1.2</td></tr>\n",
        "<tr><td>L R</td><td>d02k001</td><td>cde.ca.gov-star-orig-0.1.1</td></tr>\n",
        "<tr><td>L R</td><td>d00c003</td><td>census.gov-2000_population-geo-orig-0.1.3</td></tr>\n",
        "<tr><td>L R</td><td>d00d006</td><td>census.gov-2010_population-geo-orig-0.1.6</td></tr>\n",
        "<tr><td>L R</td><td>d00h001</td><td>census.gov-acs-geo-orig-0.1.1</td></tr>\n",
        "<tr><td>L R</td><td>d024003</td><td>census.gov-acs-p5ye2012-0.0.3</td></tr>\n",
        "<tr><td>L R</td><td>d00i005</td><td>census.gov-geography-dim-orig-0.1.5</td></tr>\n",
        "<tr><td>L R</td><td>d00j004</td><td>census.gov-tigerline-2010-orig-0.1.4</td></tr>\n",
        "<tr><td>L R</td><td>d025001</td><td>census.gov-tigerline-2012-0.0.1</td></tr>\n",
        "<tr><td>L R</td><td>d025002</td><td>census.gov-tigerline-2012-0.0.2</td></tr>\n",
        "<tr><td>L R</td><td>d025003</td><td>census.gov-tigerline-2012-0.0.3</td></tr>\n",
        "<tr><td>L R</td><td>d00l003</td><td>chp.ca.gov-switrs-orig-0.1.3</td></tr>\n",
        "<tr><td>LSR</td><td>d00l004</td><td>chp.ca.gov-switrs-orig-0.1.4</td></tr>\n",
        "<tr><td>L R</td><td>d00p001</td><td>clarinova.com-collisions-casnd-0.1.1</td></tr>\n",
        "<tr><td>L R</td><td>d00q007</td><td>clarinova.com-crime-incidents-casnd-0.1.7</td></tr>\n",
        "<tr><td>L R</td><td>d00q008</td><td>clarinova.com-crime-incidents-casnd-geocoded-0.1.8</td></tr>\n",
        "<tr><td>L R</td><td>d02j002</td><td>clarinova.com-crime-incidents-casnd-linked-0.1.2</td></tr>\n",
        "<tr><td>L R</td><td>d00s004</td><td>clarinova.com-geocode-casnd-1.0.4</td></tr>\n",
        "<tr><td>L R</td><td>d00s005</td><td>clarinova.com-geocode-casnd-1.0.5</td></tr>\n",
        "<tr><td>L R</td><td>d00s006</td><td>clarinova.com-geocode-casnd-1.0.6</td></tr>\n",
        "<tr><td>L R</td><td>d00v005</td><td>clarinova.com-places-casnd-0.1.5</td></tr>\n",
        "<tr><td>L R</td><td>d00v006</td><td>clarinova.com-places-casnd-0.1.6</td></tr>\n",
        "<tr><td>L R</td><td>d00v007</td><td>clarinova.com-places-casnd-0.1.7</td></tr>\n",
        "<tr><td>L R</td><td>d00A001</td><td>clarinova.com-time-orig-0.1.1</td></tr>\n",
        "<tr><td>L R</td><td>d00F001</td><td>example.com-altdb-orig-0.1.1</td></tr>\n",
        "<tr><td>L R</td><td>dHSyDm4MNR001</td><td>example.com-random-0.0.1</td></tr>\n",
        "<tr><td>L R</td><td>dHSyDm4MNR002</td><td>example.com-random-0.0.2</td></tr>\n",
        "<tr><td>L R</td><td>d00G001</td><td>example.com-segmented-orig-0.1.1</td></tr>\n",
        "<tr><td>L R</td><td>d00H002</td><td>example.com-simple-orig-0.1.2</td></tr>\n",
        "<tr><td>L R</td><td>d00L002</td><td>sandag.org-crimeincidents-orig-0.1.2</td></tr>\n",
        "<tr><td>L R</td><td>d00M001</td><td>sandiego.gov-businesses-orig-0.1.1</td></tr>\n",
        "<tr><td>L R</td><td>d00N001</td><td>sangis.org-business-sites-orig-0.1.1</td></tr>\n",
        "<tr><td>L R</td><td>d00O001</td><td>sangis.org-landuse-orig-0.1.1</td></tr>\n",
        "<tr><td>L R</td><td>d00P001</td><td>sangis.org-neighborhoods-orig-0.1.1</td></tr>\n",
        "<tr><td>L R</td><td>d00Q001</td><td>sangis.org-parcels-orig-0.1.1</td></tr>\n",
        "<tr><td>L R</td><td>d00R001</td><td>sangis.org-places-orig-0.1.1</td></tr>\n",
        "<tr><td>L R</td><td>d00S001</td><td>sangis.org-street_lights-orig-0.1.1</td></tr>\n",
        "<tr><td>L R</td><td>d00T002</td><td>sangis.org-streets-orig-0.1.2</td></tr>\n",
        "<tr><td>S</td><td>d02b001</td><td>unlv.edu-state_plane-0.0.1</td></tr></table>"
       ],
       "metadata": {},
       "output_type": "pyout",
       "prompt_number": 8,
       "text": [
        "<ambry.identity.IdentitySet at 0x54a6b90>"
       ]
      }
     ],
     "prompt_number": 8
    },
    {
     "cell_type": "code",
     "collapsed": false,
     "input": [],
     "language": "python",
     "metadata": {},
     "outputs": [
      {
       "ename": "ValueError",
       "evalue": "Must have id and revision, or vid. Got neither from {'subset': None, 'btime': None, 'vname': None, 'name': None, 'vid': None, 'variation': None, 'dataset': None, 'fqname': None, 'source': None, 'version': None, 'bspace': None, 'type': None, 'id': None, 'revision': None}",
       "output_type": "pyerr",
       "traceback": [
        "\u001b[1;31m---------------------------------------------------------------------------\u001b[0m\n\u001b[1;31mValueError\u001b[0m                                Traceback (most recent call last)",
        "\u001b[1;32m<ipython-input-6-077555aaab64>\u001b[0m in \u001b[0;36m<module>\u001b[1;34m()\u001b[0m\n\u001b[0;32m      8\u001b[0m \u001b[1;33m\u001b[0m\u001b[0m\n\u001b[0;32m      9\u001b[0m ab = ambry.new_analysis_bundle(source='sandiegodata.org', dataset='crime',\n\u001b[1;32m---> 10\u001b[1;33m                         subset='test', bspace='casnd', revision=1)\n\u001b[0m\u001b[0;32m     11\u001b[0m \u001b[1;33m\u001b[0m\u001b[0m\n",
        "\u001b[1;32m/usr/local/lib/python2.7/dist-packages/ambry/bundle/bundle.pyc\u001b[0m in \u001b[0;36mnew_analysis_bundle\u001b[1;34m(source, dataset, rc_path, subset, bspace, btime, variation, revision, ns_key)\u001b[0m\n\u001b[0;32m   1568\u001b[0m         ns_key=ns_key)\n\u001b[0;32m   1569\u001b[0m \u001b[1;33m\u001b[0m\u001b[0m\n\u001b[1;32m-> 1570\u001b[1;33m     \u001b[1;32mreturn\u001b[0m \u001b[0mAnalysisBundle\u001b[0m\u001b[1;33m(\u001b[0m\u001b[0mab_path\u001b[0m\u001b[1;33m)\u001b[0m\u001b[1;33m\u001b[0m\u001b[0m\n\u001b[0m\u001b[0;32m   1571\u001b[0m \u001b[1;33m\u001b[0m\u001b[0m\n\u001b[0;32m   1572\u001b[0m \u001b[1;33m\u001b[0m\u001b[0m\n",
        "\u001b[1;32m/usr/local/lib/python2.7/dist-packages/ambry/bundle/bundle.pyc\u001b[0m in \u001b[0;36m__init__\u001b[1;34m(self, bundle_path)\u001b[0m\n\u001b[0;32m   1610\u001b[0m         portion of the build phase \"\"\"\n\u001b[0;32m   1611\u001b[0m         \u001b[1;32mfrom\u001b[0m \u001b[1;33m.\u001b[0m\u001b[1;33m.\u001b[0m\u001b[0mutil\u001b[0m \u001b[1;32mimport\u001b[0m \u001b[0mAttrDict\u001b[0m\u001b[1;33m\u001b[0m\u001b[0m\n\u001b[1;32m-> 1612\u001b[1;33m         \u001b[0msuper\u001b[0m\u001b[1;33m(\u001b[0m\u001b[0mAnalysisBundle\u001b[0m\u001b[1;33m,\u001b[0m \u001b[0mself\u001b[0m\u001b[1;33m)\u001b[0m\u001b[1;33m.\u001b[0m\u001b[0m__init__\u001b[0m\u001b[1;33m(\u001b[0m\u001b[0mbundle_path\u001b[0m\u001b[1;33m)\u001b[0m\u001b[1;33m\u001b[0m\u001b[0m\n\u001b[0m\u001b[0;32m   1613\u001b[0m \u001b[1;33m\u001b[0m\u001b[0m\n\u001b[0;32m   1614\u001b[0m         \u001b[0mself\u001b[0m\u001b[1;33m.\u001b[0m\u001b[0mlog_level\u001b[0m \u001b[1;33m=\u001b[0m \u001b[0mlogging\u001b[0m\u001b[1;33m.\u001b[0m\u001b[0mCRITICAL\u001b[0m\u001b[1;33m\u001b[0m\u001b[0m\n",
        "\u001b[1;32m/usr/local/lib/python2.7/dist-packages/ambry/bundle/bundle.pyc\u001b[0m in \u001b[0;36m__init__\u001b[1;34m(self, bundle_dir)\u001b[0m\n\u001b[0;32m    589\u001b[0m         \u001b[0mself\u001b[0m\u001b[1;33m.\u001b[0m\u001b[0mexit_on_fatal\u001b[0m \u001b[1;33m=\u001b[0m \u001b[0mTrue\u001b[0m\u001b[1;33m\u001b[0m\u001b[0m\n\u001b[0;32m    590\u001b[0m \u001b[1;33m\u001b[0m\u001b[0m\n\u001b[1;32m--> 591\u001b[1;33m         \u001b[0mself\u001b[0m\u001b[1;33m.\u001b[0m\u001b[0m_bundle_lock_context\u001b[0m \u001b[1;33m=\u001b[0m \u001b[0mBundleLockContext\u001b[0m\u001b[1;33m(\u001b[0m\u001b[0mself\u001b[0m\u001b[1;33m)\u001b[0m\u001b[1;33m\u001b[0m\u001b[0m\n\u001b[0m\u001b[0;32m    592\u001b[0m \u001b[1;33m\u001b[0m\u001b[0m\n\u001b[0;32m    593\u001b[0m \u001b[1;33m\u001b[0m\u001b[0m\n",
        "\u001b[1;32m/usr/local/lib/python2.7/dist-packages/ambry/database/sqlite.pyc\u001b[0m in \u001b[0;36m__init__\u001b[1;34m(self, bundle)\u001b[0m\n\u001b[0;32m    414\u001b[0m \u001b[1;33m\u001b[0m\u001b[0m\n\u001b[0;32m    415\u001b[0m         \u001b[0mself\u001b[0m\u001b[1;33m.\u001b[0m\u001b[0m_bundle\u001b[0m \u001b[1;33m=\u001b[0m \u001b[0mbundle\u001b[0m\u001b[1;33m\u001b[0m\u001b[0m\n\u001b[1;32m--> 416\u001b[1;33m         \u001b[0mself\u001b[0m\u001b[1;33m.\u001b[0m\u001b[0m_database\u001b[0m \u001b[1;33m=\u001b[0m \u001b[0mself\u001b[0m\u001b[1;33m.\u001b[0m\u001b[0m_bundle\u001b[0m\u001b[1;33m.\u001b[0m\u001b[0mdatabase\u001b[0m\u001b[1;33m\u001b[0m\u001b[0m\n\u001b[0m\u001b[0;32m    417\u001b[0m \u001b[1;33m\u001b[0m\u001b[0m\n\u001b[0;32m    418\u001b[0m         \u001b[0mtb\u001b[0m \u001b[1;33m=\u001b[0m \u001b[0mtraceback\u001b[0m\u001b[1;33m.\u001b[0m\u001b[0mextract_stack\u001b[0m\u001b[1;33m(\u001b[0m\u001b[1;33m)\u001b[0m\u001b[1;33m[\u001b[0m\u001b[1;33m-\u001b[0m\u001b[1;36m4\u001b[0m\u001b[1;33m:\u001b[0m\u001b[1;33m-\u001b[0m\u001b[1;36m3\u001b[0m\u001b[1;33m]\u001b[0m\u001b[1;33m[\u001b[0m\u001b[1;36m0\u001b[0m\u001b[1;33m]\u001b[0m\u001b[1;33m\u001b[0m\u001b[0m\n",
        "\u001b[1;32m/usr/local/lib/python2.7/dist-packages/ambry/bundle/bundle.pyc\u001b[0m in \u001b[0;36mdatabase\u001b[1;34m(self)\u001b[0m\n\u001b[0;32m    644\u001b[0m \u001b[1;33m\u001b[0m\u001b[0m\n\u001b[0;32m    645\u001b[0m         \u001b[1;32mif\u001b[0m \u001b[0mself\u001b[0m\u001b[1;33m.\u001b[0m\u001b[0m_database\u001b[0m \u001b[1;32mis\u001b[0m \u001b[0mNone\u001b[0m\u001b[1;33m:\u001b[0m\u001b[1;33m\u001b[0m\u001b[0m\n\u001b[1;32m--> 646\u001b[1;33m             \u001b[0mself\u001b[0m\u001b[1;33m.\u001b[0m\u001b[0m_database\u001b[0m \u001b[1;33m=\u001b[0m \u001b[0mBuildBundleDb\u001b[0m\u001b[1;33m(\u001b[0m\u001b[0mself\u001b[0m\u001b[1;33m,\u001b[0m \u001b[0mself\u001b[0m\u001b[1;33m.\u001b[0m\u001b[0mdb_path\u001b[0m\u001b[1;33m)\u001b[0m\u001b[1;33m\u001b[0m\u001b[0m\n\u001b[0m\u001b[0;32m    647\u001b[0m \u001b[1;33m\u001b[0m\u001b[0m\n\u001b[0;32m    648\u001b[0m         \u001b[1;32mreturn\u001b[0m \u001b[0mself\u001b[0m\u001b[1;33m.\u001b[0m\u001b[0m_database\u001b[0m\u001b[1;33m\u001b[0m\u001b[0m\n",
        "\u001b[1;32m/usr/local/lib/python2.7/dist-packages/ambry/bundle/bundle.pyc\u001b[0m in \u001b[0;36mdb_path\u001b[1;34m(self)\u001b[0m\n\u001b[0;32m    632\u001b[0m     \u001b[1;33m@\u001b[0m\u001b[0mproperty\u001b[0m\u001b[1;33m\u001b[0m\u001b[0m\n\u001b[0;32m    633\u001b[0m     \u001b[1;32mdef\u001b[0m \u001b[0mdb_path\u001b[0m\u001b[1;33m(\u001b[0m\u001b[0mself\u001b[0m\u001b[1;33m)\u001b[0m\u001b[1;33m:\u001b[0m\u001b[1;33m\u001b[0m\u001b[0m\n\u001b[1;32m--> 634\u001b[1;33m         \u001b[1;32mreturn\u001b[0m \u001b[0mself\u001b[0m\u001b[1;33m.\u001b[0m\u001b[0mpath\u001b[0m \u001b[1;33m+\u001b[0m \u001b[1;34m'.db'\u001b[0m\u001b[1;33m\u001b[0m\u001b[0m\n\u001b[0m\u001b[0;32m    635\u001b[0m \u001b[1;33m\u001b[0m\u001b[0m\n\u001b[0;32m    636\u001b[0m     \u001b[1;32mdef\u001b[0m \u001b[0msub_path\u001b[0m\u001b[1;33m(\u001b[0m\u001b[0mself\u001b[0m\u001b[1;33m,\u001b[0m \u001b[1;33m*\u001b[0m\u001b[0margs\u001b[0m\u001b[1;33m)\u001b[0m\u001b[1;33m:\u001b[0m\u001b[1;33m\u001b[0m\u001b[0m\n",
        "\u001b[1;32m/usr/local/lib/python2.7/dist-packages/ambry/bundle/bundle.pyc\u001b[0m in \u001b[0;36mpath\u001b[1;34m(self)\u001b[0m\n\u001b[0;32m    628\u001b[0m     \u001b[1;33m@\u001b[0m\u001b[0mproperty\u001b[0m\u001b[1;33m\u001b[0m\u001b[0m\n\u001b[0;32m    629\u001b[0m     \u001b[1;32mdef\u001b[0m \u001b[0mpath\u001b[0m\u001b[1;33m(\u001b[0m\u001b[0mself\u001b[0m\u001b[1;33m)\u001b[0m\u001b[1;33m:\u001b[0m\u001b[1;33m\u001b[0m\u001b[0m\n\u001b[1;32m--> 630\u001b[1;33m         \u001b[1;32mreturn\u001b[0m \u001b[0mos\u001b[0m\u001b[1;33m.\u001b[0m\u001b[0mpath\u001b[0m\u001b[1;33m.\u001b[0m\u001b[0mjoin\u001b[0m\u001b[1;33m(\u001b[0m\u001b[0mself\u001b[0m\u001b[1;33m.\u001b[0m\u001b[0mbuild_dir\u001b[0m\u001b[1;33m,\u001b[0m \u001b[0mself\u001b[0m\u001b[1;33m.\u001b[0m\u001b[0midentity\u001b[0m\u001b[1;33m.\u001b[0m\u001b[0mpath\u001b[0m\u001b[1;33m)\u001b[0m\u001b[1;33m\u001b[0m\u001b[0m\n\u001b[0m\u001b[0;32m    631\u001b[0m \u001b[1;33m\u001b[0m\u001b[0m\n\u001b[0;32m    632\u001b[0m     \u001b[1;33m@\u001b[0m\u001b[0mproperty\u001b[0m\u001b[1;33m\u001b[0m\u001b[0m\n",
        "\u001b[1;32m/usr/local/lib/python2.7/dist-packages/ambry/bundle/bundle.pyc\u001b[0m in \u001b[0;36midentity\u001b[1;34m(self)\u001b[0m\n\u001b[0;32m    695\u001b[0m                         self.config.source_ref))\n\u001b[0;32m    696\u001b[0m \u001b[1;33m\u001b[0m\u001b[0m\n\u001b[1;32m--> 697\u001b[1;33m             \u001b[0mself\u001b[0m\u001b[1;33m.\u001b[0m\u001b[0m_identity\u001b[0m \u001b[1;33m=\u001b[0m \u001b[0mIdentity\u001b[0m\u001b[1;33m.\u001b[0m\u001b[0mfrom_dict\u001b[0m\u001b[1;33m(\u001b[0m\u001b[0mdict\u001b[0m\u001b[1;33m(\u001b[0m\u001b[0mnames\u001b[0m \u001b[1;33m+\u001b[0m \u001b[0midents\u001b[0m\u001b[1;33m)\u001b[0m\u001b[1;33m)\u001b[0m\u001b[1;33m\u001b[0m\u001b[0m\n\u001b[0m\u001b[0;32m    698\u001b[0m             \u001b[0mself\u001b[0m\u001b[1;33m.\u001b[0m\u001b[0m_identity\u001b[0m\u001b[1;33m.\u001b[0m\u001b[0mlocations\u001b[0m\u001b[1;33m.\u001b[0m\u001b[0mset\u001b[0m\u001b[1;33m(\u001b[0m\u001b[0mLocationRef\u001b[0m\u001b[1;33m.\u001b[0m\u001b[0mLOCATION\u001b[0m\u001b[1;33m.\u001b[0m\u001b[0mSOURCE\u001b[0m\u001b[1;33m)\u001b[0m\u001b[1;33m\u001b[0m\u001b[0m\n\u001b[0;32m    699\u001b[0m \u001b[1;33m\u001b[0m\u001b[0m\n",
        "\u001b[1;32m/usr/local/lib/python2.7/dist-packages/ambry/identity.pyc\u001b[0m in \u001b[0;36mfrom_dict\u001b[1;34m(cls, d)\u001b[0m\n\u001b[0;32m   1098\u001b[0m \u001b[1;33m\u001b[0m\u001b[0m\n\u001b[0;32m   1099\u001b[0m         \u001b[1;32melse\u001b[0m\u001b[1;33m:\u001b[0m\u001b[1;33m\u001b[0m\u001b[0m\n\u001b[1;32m-> 1100\u001b[1;33m             \u001b[1;32mraise\u001b[0m \u001b[0mValueError\u001b[0m\u001b[1;33m(\u001b[0m\u001b[1;34m\"Must have id and revision, or vid. Got neither from {}\"\u001b[0m\u001b[1;33m.\u001b[0m\u001b[0mformat\u001b[0m\u001b[1;33m(\u001b[0m\u001b[0md\u001b[0m\u001b[1;33m)\u001b[0m\u001b[1;33m)\u001b[0m\u001b[1;33m\u001b[0m\u001b[0m\n\u001b[0m\u001b[0;32m   1101\u001b[0m \u001b[1;33m\u001b[0m\u001b[0m\n\u001b[0;32m   1102\u001b[0m \u001b[1;33m\u001b[0m\u001b[0m\n",
        "\u001b[1;31mValueError\u001b[0m: Must have id and revision, or vid. Got neither from {'subset': None, 'btime': None, 'vname': None, 'name': None, 'vid': None, 'variation': None, 'dataset': None, 'fqname': None, 'source': None, 'version': None, 'bspace': None, 'type': None, 'id': None, 'revision': None}"
       ]
      }
     ],
     "prompt_number": 6
    },
    {
     "cell_type": "code",
     "collapsed": false,
     "input": [],
     "language": "python",
     "metadata": {},
     "outputs": []
    }
   ],
   "metadata": {}
  }
 ]
}