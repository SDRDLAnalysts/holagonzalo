{
 "metadata": {
  "name": "",
  "signature": "sha256:755b4f499ab255bcd206aa0fd2d1a8fd6dce18e3c41d4a52c57a2b7ee49fb8a2"
 },
 "nbformat": 3,
 "nbformat_minor": 0,
 "worksheets": [
  {
   "cells": [
    {
     "cell_type": "code",
     "collapsed": false,
     "input": [
      "%matplotlib inline\n",
      "import pandas as pd\n",
      "import ambry\n",
      "\n",
      "l = ambry.ilibrary()\n",
      "ambry.library().sync_remotes() # Make sure we find it. Note its not in the library(), not ilibrary()\n",
      "p = l.get('ffiec.gov-cra_disclosures-d1_1').partition # Big! will take a while to download\n",
      "# In this version of the dataset, the state and county values are VARCHAR, not INTEGER\n",
      "disc = p.select(\"SELECT *  FROM d1_1 WHERE state = '06' and county = '073' \").pandas"
     ],
     "language": "python",
     "metadata": {},
     "outputs": [
      {
       "output_type": "stream",
       "stream": "stdout",
       "text": [
        "ambry.library 267 INFO Remote http://s3.sandiegodata.org/library/#compressed sync: edd.ca.gov/empwages-0.0.3.db\n"
       ]
      },
      {
       "output_type": "stream",
       "stream": "stderr",
       "text": [
        "INFO:ambry.library:Remote http://s3.sandiegodata.org/library/#compressed sync: edd.ca.gov/empwages-0.0.3.db\n"
       ]
      },
      {
       "output_type": "stream",
       "stream": "stdout",
       "text": [
        "ambry.library 267 INFO     + edd.ca.gov-empwages-empwages\n"
       ]
      },
      {
       "output_type": "stream",
       "stream": "stderr",
       "text": [
        "INFO:ambry.library:    + edd.ca.gov-empwages-empwages\n"
       ]
      },
      {
       "output_type": "stream",
       "stream": "stdout",
       "text": [
        "ambry.library 267 INFO     + edd.ca.gov-empwages-column_codes\n"
       ]
      },
      {
       "output_type": "stream",
       "stream": "stderr",
       "text": [
        "INFO:ambry.library:    + edd.ca.gov-empwages-column_codes\n"
       ]
      },
      {
       "output_type": "stream",
       "stream": "stdout",
       "text": [
        "ambry.library 267 INFO Remote http://s3.sandiegodata.org/library/#compressed sync: edd.ca.gov/empwages-0.0.1.db\n"
       ]
      },
      {
       "output_type": "stream",
       "stream": "stderr",
       "text": [
        "INFO:ambry.library:Remote http://s3.sandiegodata.org/library/#compressed sync: edd.ca.gov/empwages-0.0.1.db\n"
       ]
      },
      {
       "output_type": "stream",
       "stream": "stdout",
       "text": [
        "ambry.library 267 INFO     + edd.ca.gov-empwages-empwages\n"
       ]
      },
      {
       "output_type": "stream",
       "stream": "stderr",
       "text": [
        "INFO:ambry.library:    + edd.ca.gov-empwages-empwages\n"
       ]
      },
      {
       "output_type": "stream",
       "stream": "stdout",
       "text": [
        "ambry.library 267 INFO     + edd.ca.gov-empwages-column_codes\n"
       ]
      },
      {
       "output_type": "stream",
       "stream": "stderr",
       "text": [
        "INFO:ambry.library:    + edd.ca.gov-empwages-column_codes\n"
       ]
      },
      {
       "output_type": "stream",
       "stream": "stdout",
       "text": [
        "ambry.library 267 INFO Remote http://s3.sandiegodata.org/library/#compressed sync: ffiec.gov/cra_disclosures-0.0.1.db\n"
       ]
      },
      {
       "output_type": "stream",
       "stream": "stderr",
       "text": [
        "INFO:ambry.library:Remote http://s3.sandiegodata.org/library/#compressed sync: ffiec.gov/cra_disclosures-0.0.1.db\n"
       ]
      },
      {
       "output_type": "stream",
       "stream": "stdout",
       "text": [
        "ambry.library 267 INFO     + ffiec.gov-cra_disclosures-d1_1\n"
       ]
      },
      {
       "output_type": "stream",
       "stream": "stderr",
       "text": [
        "INFO:ambry.library:    + ffiec.gov-cra_disclosures-d1_1\n"
       ]
      },
      {
       "output_type": "stream",
       "stream": "stdout",
       "text": [
        "ambry.library 267 INFO     + ffiec.gov-cra_disclosures-d1_2\n"
       ]
      },
      {
       "output_type": "stream",
       "stream": "stderr",
       "text": [
        "INFO:ambry.library:    + ffiec.gov-cra_disclosures-d1_2\n"
       ]
      },
      {
       "output_type": "stream",
       "stream": "stdout",
       "text": [
        "ambry.library 267 INFO     + ffiec.gov-cra_disclosures-d2_1\n"
       ]
      },
      {
       "output_type": "stream",
       "stream": "stderr",
       "text": [
        "INFO:ambry.library:    + ffiec.gov-cra_disclosures-d2_1\n"
       ]
      },
      {
       "output_type": "stream",
       "stream": "stdout",
       "text": [
        "ambry.library 267 INFO     + ffiec.gov-cra_disclosures-d2_2\n"
       ]
      },
      {
       "output_type": "stream",
       "stream": "stderr",
       "text": [
        "INFO:ambry.library:    + ffiec.gov-cra_disclosures-d2_2\n"
       ]
      },
      {
       "output_type": "stream",
       "stream": "stdout",
       "text": [
        "ambry.library 267 INFO     + ffiec.gov-cra_disclosures-d3_0\n"
       ]
      },
      {
       "output_type": "stream",
       "stream": "stderr",
       "text": [
        "INFO:ambry.library:    + ffiec.gov-cra_disclosures-d3_0\n"
       ]
      },
      {
       "output_type": "stream",
       "stream": "stdout",
       "text": [
        "ambry.library 267 INFO     + ffiec.gov-cra_disclosures-d4_0\n"
       ]
      },
      {
       "output_type": "stream",
       "stream": "stderr",
       "text": [
        "INFO:ambry.library:    + ffiec.gov-cra_disclosures-d4_0\n"
       ]
      },
      {
       "output_type": "stream",
       "stream": "stdout",
       "text": [
        "ambry.library 267 INFO     + ffiec.gov-cra_disclosures-d5_0\n"
       ]
      },
      {
       "output_type": "stream",
       "stream": "stderr",
       "text": [
        "INFO:ambry.library:    + ffiec.gov-cra_disclosures-d5_0\n"
       ]
      },
      {
       "output_type": "stream",
       "stream": "stdout",
       "text": [
        "ambry.library 267 INFO     + ffiec.gov-cra_disclosures-d6_0\n"
       ]
      },
      {
       "output_type": "stream",
       "stream": "stderr",
       "text": [
        "INFO:ambry.library:    + ffiec.gov-cra_disclosures-d6_0\n"
       ]
      }
     ],
     "prompt_number": 1
    },
    {
     "cell_type": "code",
     "collapsed": false,
     "input": [
      "dis.head()"
     ],
     "language": "python",
     "metadata": {},
     "outputs": [
      {
       "ename": "NameError",
       "evalue": "name 'dis' is not defined",
       "output_type": "pyerr",
       "traceback": [
        "\u001b[1;31m---------------------------------------------------------------------------\u001b[0m\n\u001b[1;31mNameError\u001b[0m                                 Traceback (most recent call last)",
        "\u001b[1;32m<ipython-input-2-7a52403db125>\u001b[0m in \u001b[0;36m<module>\u001b[1;34m()\u001b[0m\n\u001b[1;32m----> 1\u001b[1;33m \u001b[0mdis\u001b[0m\u001b[1;33m.\u001b[0m\u001b[0mhead\u001b[0m\u001b[1;33m(\u001b[0m\u001b[1;33m)\u001b[0m\u001b[1;33m\u001b[0m\u001b[0m\n\u001b[0m",
        "\u001b[1;31mNameError\u001b[0m: name 'dis' is not defined"
       ]
      }
     ],
     "prompt_number": 2
    },
    {
     "cell_type": "code",
     "collapsed": false,
     "input": [
      "disc.head()"
     ],
     "language": "python",
     "metadata": {},
     "outputs": [
      {
       "html": [
        "<div style=\"max-height:1000px;max-width:1500px;overflow:auto;\">\n",
        "<table border=\"1\" class=\"dataframe\">\n",
        "  <thead>\n",
        "    <tr style=\"text-align: right;\">\n",
        "      <th></th>\n",
        "      <th>id</th>\n",
        "      <th>table_id</th>\n",
        "      <th>respondent_id</th>\n",
        "      <th>agency</th>\n",
        "      <th>year</th>\n",
        "      <th>loan_type</th>\n",
        "      <th>action</th>\n",
        "      <th>state</th>\n",
        "      <th>county</th>\n",
        "      <th>msa</th>\n",
        "      <th>...</th>\n",
        "      <th>num_orig_bus_lt100k</th>\n",
        "      <th>tot_orig_bus_lt100k</th>\n",
        "      <th>num_orig_bus_lt250k</th>\n",
        "      <th>tot_orig_bus_gt100k_lt250k</th>\n",
        "      <th>num_orig_bus_gt250k_lt1m</th>\n",
        "      <th>tot_orig_bus_gt250k_lt1m</th>\n",
        "      <th>num_orig_bus_lt1m</th>\n",
        "      <th>tot_orig_bus_lt1m</th>\n",
        "      <th>num_orig_bus_al</th>\n",
        "      <th>tot_orig_bus_al</th>\n",
        "    </tr>\n",
        "  </thead>\n",
        "  <tbody>\n",
        "    <tr>\n",
        "      <th>0</th>\n",
        "      <td> 2257</td>\n",
        "      <td> D1-1</td>\n",
        "      <td> 0000000008</td>\n",
        "      <td> 1</td>\n",
        "      <td> 1996</td>\n",
        "      <td> 4</td>\n",
        "      <td> 1</td>\n",
        "      <td> 06</td>\n",
        "      <td> 073</td>\n",
        "      <td> 7320</td>\n",
        "      <td>...</td>\n",
        "      <td> 0</td>\n",
        "      <td> 0</td>\n",
        "      <td> 0</td>\n",
        "      <td> 0</td>\n",
        "      <td> 0</td>\n",
        "      <td> 0</td>\n",
        "      <td> 0</td>\n",
        "      <td> 0</td>\n",
        "      <td> 0</td>\n",
        "      <td> 0</td>\n",
        "    </tr>\n",
        "    <tr>\n",
        "      <th>1</th>\n",
        "      <td> 2258</td>\n",
        "      <td> D1-1</td>\n",
        "      <td> 0000000008</td>\n",
        "      <td> 1</td>\n",
        "      <td> 1996</td>\n",
        "      <td> 4</td>\n",
        "      <td> 1</td>\n",
        "      <td> 06</td>\n",
        "      <td> 073</td>\n",
        "      <td> 7320</td>\n",
        "      <td>...</td>\n",
        "      <td> 0</td>\n",
        "      <td> 0</td>\n",
        "      <td> 0</td>\n",
        "      <td> 0</td>\n",
        "      <td> 0</td>\n",
        "      <td> 0</td>\n",
        "      <td> 0</td>\n",
        "      <td> 0</td>\n",
        "      <td> 0</td>\n",
        "      <td> 0</td>\n",
        "    </tr>\n",
        "    <tr>\n",
        "      <th>2</th>\n",
        "      <td> 2259</td>\n",
        "      <td> D1-1</td>\n",
        "      <td> 0000000008</td>\n",
        "      <td> 1</td>\n",
        "      <td> 1996</td>\n",
        "      <td> 4</td>\n",
        "      <td> 1</td>\n",
        "      <td> 06</td>\n",
        "      <td> 073</td>\n",
        "      <td> 7320</td>\n",
        "      <td>...</td>\n",
        "      <td> 0</td>\n",
        "      <td> 0</td>\n",
        "      <td> 0</td>\n",
        "      <td> 0</td>\n",
        "      <td> 0</td>\n",
        "      <td> 0</td>\n",
        "      <td> 0</td>\n",
        "      <td> 0</td>\n",
        "      <td> 0</td>\n",
        "      <td> 0</td>\n",
        "    </tr>\n",
        "    <tr>\n",
        "      <th>3</th>\n",
        "      <td> 2260</td>\n",
        "      <td> D1-1</td>\n",
        "      <td> 0000000008</td>\n",
        "      <td> 1</td>\n",
        "      <td> 1996</td>\n",
        "      <td> 4</td>\n",
        "      <td> 1</td>\n",
        "      <td> 06</td>\n",
        "      <td> 073</td>\n",
        "      <td> 7320</td>\n",
        "      <td>...</td>\n",
        "      <td> 0</td>\n",
        "      <td> 0</td>\n",
        "      <td> 0</td>\n",
        "      <td> 0</td>\n",
        "      <td> 0</td>\n",
        "      <td> 0</td>\n",
        "      <td> 0</td>\n",
        "      <td> 0</td>\n",
        "      <td> 0</td>\n",
        "      <td> 0</td>\n",
        "    </tr>\n",
        "    <tr>\n",
        "      <th>4</th>\n",
        "      <td> 2261</td>\n",
        "      <td> D1-1</td>\n",
        "      <td> 0000000008</td>\n",
        "      <td> 1</td>\n",
        "      <td> 1996</td>\n",
        "      <td> 4</td>\n",
        "      <td> 1</td>\n",
        "      <td> 06</td>\n",
        "      <td> 073</td>\n",
        "      <td> 7320</td>\n",
        "      <td>...</td>\n",
        "      <td> 0</td>\n",
        "      <td> 0</td>\n",
        "      <td> 0</td>\n",
        "      <td> 0</td>\n",
        "      <td> 0</td>\n",
        "      <td> 0</td>\n",
        "      <td> 0</td>\n",
        "      <td> 0</td>\n",
        "      <td> 0</td>\n",
        "      <td> 0</td>\n",
        "    </tr>\n",
        "  </tbody>\n",
        "</table>\n",
        "<p>5 rows \u00d7 26 columns</p>\n",
        "</div>"
       ],
       "metadata": {},
       "output_type": "pyout",
       "prompt_number": 3,
       "text": [
        "     id table_id respondent_id  agency  year  loan_type  action state county  \\\n",
        "0  2257     D1-1    0000000008       1  1996          4       1    06    073   \n",
        "1  2258     D1-1    0000000008       1  1996          4       1    06    073   \n",
        "2  2259     D1-1    0000000008       1  1996          4       1    06    073   \n",
        "3  2260     D1-1    0000000008       1  1996          4       1    06    073   \n",
        "4  2261     D1-1    0000000008       1  1996          4       1    06    073   \n",
        "\n",
        "    msa  ...  num_orig_bus_lt100k tot_orig_bus_lt100k num_orig_bus_lt250k  \\\n",
        "0  7320  ...                    0                   0                   0   \n",
        "1  7320  ...                    0                   0                   0   \n",
        "2  7320  ...                    0                   0                   0   \n",
        "3  7320  ...                    0                   0                   0   \n",
        "4  7320  ...                    0                   0                   0   \n",
        "\n",
        "  tot_orig_bus_gt100k_lt250k num_orig_bus_gt250k_lt1m  \\\n",
        "0                          0                        0   \n",
        "1                          0                        0   \n",
        "2                          0                        0   \n",
        "3                          0                        0   \n",
        "4                          0                        0   \n",
        "\n",
        "  tot_orig_bus_gt250k_lt1m  num_orig_bus_lt1m  tot_orig_bus_lt1m  \\\n",
        "0                        0                  0                  0   \n",
        "1                        0                  0                  0   \n",
        "2                        0                  0                  0   \n",
        "3                        0                  0                  0   \n",
        "4                        0                  0                  0   \n",
        "\n",
        "   num_orig_bus_al  tot_orig_bus_al  \n",
        "0                0                0  \n",
        "1                0                0  \n",
        "2                0                0  \n",
        "3                0                0  \n",
        "4                0                0  \n",
        "\n",
        "[5 rows x 26 columns]"
       ]
      }
     ],
     "prompt_number": 3
    },
    {
     "cell_type": "code",
     "collapsed": false,
     "input": [],
     "language": "python",
     "metadata": {},
     "outputs": []
    }
   ],
   "metadata": {}
  }
 ]
}