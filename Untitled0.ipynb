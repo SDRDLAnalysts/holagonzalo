{
 "metadata": {
  "name": "",
  "signature": "sha256:56b397adadbb54743a3a7f5a01f4bfc14468e7bc41a672aa8eb10f9ff5d9d697"
 },
 "nbformat": 3,
 "nbformat_minor": 0,
 "worksheets": [
  {
   "cells": [
    {
     "cell_type": "code",
     "collapsed": false,
     "input": [
      "%matplotlib inline\n",
      "import pandas as pd\n",
      "import ambry\n",
      "\n",
      "l = ambry.ilibrary()\n",
      "ambry.library().sync_remotes() # Make sure we find it. Note its not in the library(), not ilibrary()\n",
      "p = l.get('ffiec.gov-cra_disclosures-d1_1').partition # Big! will take a while to download\n",
      "# In this version of the dataset, the state and county values are VARCHAR, not INTEGER\n",
      "disc = p.select(\"SELECT *  FROM d1_1 WHERE state = '06' and county = '073' \").pandas"
     ],
     "language": "python",
     "metadata": {},
     "outputs": [
      {
       "output_type": "stream",
       "stream": "stdout",
       "text": [
        "ambry.library 267 INFO Remote http://s3.sandiegodata.org/library/#compressed sync: edd.ca.gov/empwages-0.0.3.db\n"
       ]
      },
      {
       "output_type": "stream",
       "stream": "stderr",
       "text": [
        "INFO:ambry.library:Remote http://s3.sandiegodata.org/library/#compressed sync: edd.ca.gov/empwages-0.0.3.db\n"
       ]
      },
      {
       "output_type": "stream",
       "stream": "stdout",
       "text": [
        "ambry.library 267 INFO     + edd.ca.gov-empwages-empwages\n"
       ]
      },
      {
       "output_type": "stream",
       "stream": "stderr",
       "text": [
        "INFO:ambry.library:    + edd.ca.gov-empwages-empwages\n"
       ]
      },
      {
       "output_type": "stream",
       "stream": "stdout",
       "text": [
        "ambry.library 267 INFO     + edd.ca.gov-empwages-column_codes\n"
       ]
      },
      {
       "output_type": "stream",
       "stream": "stderr",
       "text": [
        "INFO:ambry.library:    + edd.ca.gov-empwages-column_codes\n"
       ]
      },
      {
       "output_type": "stream",
       "stream": "stdout",
       "text": [
        "ambry.library 267 INFO Remote http://s3.sandiegodata.org/library/#compressed sync: edd.ca.gov/empwages-0.0.1.db\n"
       ]
      },
      {
       "output_type": "stream",
       "stream": "stderr",
       "text": [
        "INFO:ambry.library:Remote http://s3.sandiegodata.org/library/#compressed sync: edd.ca.gov/empwages-0.0.1.db\n"
       ]
      },
      {
       "output_type": "stream",
       "stream": "stdout",
       "text": [
        "ambry.library 267 INFO     + edd.ca.gov-empwages-empwages\n"
       ]
      },
      {
       "output_type": "stream",
       "stream": "stderr",
       "text": [
        "INFO:ambry.library:    + edd.ca.gov-empwages-empwages\n"
       ]
      },
      {
       "output_type": "stream",
       "stream": "stdout",
       "text": [
        "ambry.library 267 INFO     + edd.ca.gov-empwages-column_codes\n"
       ]
      },
      {
       "output_type": "stream",
       "stream": "stderr",
       "text": [
        "INFO:ambry.library:    + edd.ca.gov-empwages-column_codes\n"
       ]
      },
      {
       "output_type": "stream",
       "stream": "stdout",
       "text": [
        "ambry.library 267 INFO Remote http://s3.sandiegodata.org/library/#compressed sync: ffiec.gov/cra_disclosures-0.0.1.db\n"
       ]
      },
      {
       "output_type": "stream",
       "stream": "stderr",
       "text": [
        "INFO:ambry.library:Remote http://s3.sandiegodata.org/library/#compressed sync: ffiec.gov/cra_disclosures-0.0.1.db\n"
       ]
      },
      {
       "output_type": "stream",
       "stream": "stdout",
       "text": [
        "ambry.library 267 INFO     + ffiec.gov-cra_disclosures-d1_1\n"
       ]
      },
      {
       "output_type": "stream",
       "stream": "stderr",
       "text": [
        "INFO:ambry.library:    + ffiec.gov-cra_disclosures-d1_1\n"
       ]
      },
      {
       "output_type": "stream",
       "stream": "stdout",
       "text": [
        "ambry.library 267 INFO     + ffiec.gov-cra_disclosures-d1_2\n"
       ]
      },
      {
       "output_type": "stream",
       "stream": "stderr",
       "text": [
        "INFO:ambry.library:    + ffiec.gov-cra_disclosures-d1_2\n"
       ]
      },
      {
       "output_type": "stream",
       "stream": "stdout",
       "text": [
        "ambry.library 267 INFO     + ffiec.gov-cra_disclosures-d2_1\n"
       ]
      },
      {
       "output_type": "stream",
       "stream": "stderr",
       "text": [
        "INFO:ambry.library:    + ffiec.gov-cra_disclosures-d2_1\n"
       ]
      },
      {
       "output_type": "stream",
       "stream": "stdout",
       "text": [
        "ambry.library 267 INFO     + ffiec.gov-cra_disclosures-d2_2\n"
       ]
      },
      {
       "output_type": "stream",
       "stream": "stderr",
       "text": [
        "INFO:ambry.library:    + ffiec.gov-cra_disclosures-d2_2\n"
       ]
      },
      {
       "output_type": "stream",
       "stream": "stdout",
       "text": [
        "ambry.library 267 INFO     + ffiec.gov-cra_disclosures-d3_0\n"
       ]
      },
      {
       "output_type": "stream",
       "stream": "stderr",
       "text": [
        "INFO:ambry.library:    + ffiec.gov-cra_disclosures-d3_0\n"
       ]
      },
      {
       "output_type": "stream",
       "stream": "stdout",
       "text": [
        "ambry.library 267 INFO     + ffiec.gov-cra_disclosures-d4_0\n"
       ]
      },
      {
       "output_type": "stream",
       "stream": "stderr",
       "text": [
        "INFO:ambry.library:    + ffiec.gov-cra_disclosures-d4_0\n"
       ]
      },
      {
       "output_type": "stream",
       "stream": "stdout",
       "text": [
        "ambry.library 267 INFO     + ffiec.gov-cra_disclosures-d5_0\n"
       ]
      },
      {
       "output_type": "stream",
       "stream": "stderr",
       "text": [
        "INFO:ambry.library:    + ffiec.gov-cra_disclosures-d5_0\n"
       ]
      },
      {
       "output_type": "stream",
       "stream": "stdout",
       "text": [
        "ambry.library 267 INFO     + ffiec.gov-cra_disclosures-d6_0\n"
       ]
      },
      {
       "output_type": "stream",
       "stream": "stderr",
       "text": [
        "INFO:ambry.library:    + ffiec.gov-cra_disclosures-d6_0\n"
       ]
      }
     ],
     "prompt_number": 1
    },
    {
     "cell_type": "code",
     "collapsed": false,
     "input": [],
     "language": "python",
     "metadata": {},
     "outputs": []
    }
   ],
   "metadata": {}
  }
 ]
}