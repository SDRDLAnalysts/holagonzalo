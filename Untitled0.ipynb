{
 "metadata": {
  "name": "",
  "signature": "sha256:33ea55e2d049b1cc086d29ea14f0815d567cda4d2fc38ef287c37fd9d8d61796"
 },
 "nbformat": 3,
 "nbformat_minor": 0,
 "worksheets": []
}